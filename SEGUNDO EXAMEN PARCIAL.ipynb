{
 "cells": [
  {
   "cell_type": "markdown",
   "id": "d4b845a0-8f67-4db5-a0f7-950b0f6596fb",
   "metadata": {},
   "source": [
    "# SEGUNDO EXAMEN PARCIAL VISIÓN POR COMPUTADORA"
   ]
  },
  {
   "cell_type": "markdown",
   "id": "18fa5a88-2dfa-4055-855b-63e00e4f105f",
   "metadata": {},
   "source": [
    "- Alumna Dolly Gwendoline López Rosas\n",
    "- NUA 379969\n",
    "- Correo dg.lopezrosas@ugto.mx"
   ]
  },
  {
   "cell_type": "markdown",
   "id": "02796572-3e3f-46f4-8f04-f593f133cede",
   "metadata": {},
   "source": [
    "* Doctora María Susana Ávila García"
   ]
  },
  {
   "cell_type": "markdown",
   "id": "a5c86711-14bd-43cd-a448-ff51d67fd873",
   "metadata": {},
   "source": [
    "En un cuaderno de Jupyter usando Pyhton extraer las regiones de las fichas en rodo de la imagen \n",
    "“Red Bottle Caps.jpg” y generar una generar una imagen binaria como las que se muestra en el \n",
    "ejemplo (valor 75%) y rellenar cada una de las regiones de las fichas con colores del arcoíris (25%). "
   ]
  },
  {
   "cell_type": "code",
   "execution_count": 1,
   "id": "af79fe69-c0f9-4364-87ea-47f1cbe470bf",
   "metadata": {},
   "outputs": [],
   "source": [
    "# El primer paso que vamos a hacer es importar las librerías que vamos a utilizar\n",
    "\n",
    "import cv2 as cv\n",
    "import numpy as np\n",
    "from matplotlib import pyplot as plt"
   ]
  }
 ],
 "metadata": {
  "kernelspec": {
   "display_name": "Python [conda env:base] *",
   "language": "python",
   "name": "conda-base-py"
  },
  "language_info": {
   "codemirror_mode": {
    "name": "ipython",
    "version": 3
   },
   "file_extension": ".py",
   "mimetype": "text/x-python",
   "name": "python",
   "nbconvert_exporter": "python",
   "pygments_lexer": "ipython3",
   "version": "3.12.7"
  }
 },
 "nbformat": 4,
 "nbformat_minor": 5
}
